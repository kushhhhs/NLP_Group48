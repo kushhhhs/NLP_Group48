{
 "cells": [
  {
   "cell_type": "code",
   "execution_count": 15,
   "id": "8df849c5",
   "metadata": {},
   "outputs": [],
   "source": [
    "import nltk\n",
    "from collections import Counter"
   ]
  },
  {
   "cell_type": "code",
   "execution_count": 16,
   "id": "b3681606",
   "metadata": {},
   "outputs": [
    {
     "name": "stderr",
     "output_type": "stream",
     "text": [
      "[nltk_data] Downloading package brown to\n",
      "[nltk_data]     /Users/daimyvanloo/nltk_data...\n",
      "[nltk_data]   Package brown is already up-to-date!\n",
      "[nltk_data] Downloading package punkt to\n",
      "[nltk_data]     /Users/daimyvanloo/nltk_data...\n",
      "[nltk_data]   Package punkt is already up-to-date!\n"
     ]
    }
   ],
   "source": [
    "nltk.download('brown')\n",
    "nltk.download('punkt')\n",
    "from nltk.corpus import brown"
   ]
  },
  {
   "cell_type": "code",
   "execution_count": 17,
   "id": "055790d3",
   "metadata": {},
   "outputs": [
    {
     "data": {
      "text/plain": [
       "['adventure',\n",
       " 'belles_lettres',\n",
       " 'editorial',\n",
       " 'fiction',\n",
       " 'government',\n",
       " 'hobbies',\n",
       " 'humor',\n",
       " 'learned',\n",
       " 'lore',\n",
       " 'mystery',\n",
       " 'news',\n",
       " 'religion',\n",
       " 'reviews',\n",
       " 'romance',\n",
       " 'science_fiction']"
      ]
     },
     "execution_count": 17,
     "metadata": {},
     "output_type": "execute_result"
    }
   ],
   "source": [
    "brown.categories()"
   ]
  },
  {
   "cell_type": "code",
   "execution_count": 18,
   "id": "d9131944",
   "metadata": {},
   "outputs": [
    {
     "name": "stdout",
     "output_type": "stream",
     "text": [
      "Top 10 words in the Romance category:\n",
      ",: 3899\n",
      ".: 3736\n",
      "the: 2758\n",
      "and: 1776\n",
      "to: 1502\n",
      "a: 1335\n",
      "of: 1186\n",
      "``: 1045\n",
      "'': 1044\n",
      "was: 993\n",
      "\n",
      "Top 10 words in the Humor category:\n",
      ",: 1331\n",
      "the: 930\n",
      ".: 877\n",
      "of: 515\n",
      "and: 512\n",
      "a: 505\n",
      "to: 463\n",
      "``: 343\n",
      "'': 340\n",
      "in: 334\n",
      "\n",
      "Top 10 words in the Brown corpus:\n",
      "the: 62713\n",
      ",: 58334\n",
      ".: 49346\n",
      "of: 36080\n",
      "and: 27915\n",
      "to: 25732\n",
      "a: 21881\n",
      "in: 19536\n",
      "that: 10237\n",
      "is: 10011\n"
     ]
    }
   ],
   "source": [
    "brown_words = brown.words()\n",
    "romance_words = brown.words(categories='romance')\n",
    "humor_words = brown.words(categories='humor')\n",
    "\n",
    "romance_word_freqs = Counter(romance_words).most_common()\n",
    "humor_word_freqs = Counter(humor_words).most_common()\n",
    "brown_word_freqs = Counter(brown_words).most_common()\n",
    "\n",
    "print(\"Top 10 words in the Romance category:\")\n",
    "for word, freq in romance_word_freqs[:10]:\n",
    "    print(f\"{word}: {freq}\")\n",
    "print(\"\\nTop 10 words in the Humor category:\")\n",
    "for word, freq in humor_word_freqs[:10]:\n",
    "    print(f\"{word}: {freq}\")\n",
    "print(\"\\nTop 10 words in the Brown corpus:\")\n",
    "for word, freq in brown_word_freqs[:10]:\n",
    "    print(f\"{word}: {freq}\")"
   ]
  },
  {
   "cell_type": "code",
   "execution_count": null,
   "id": "8ddc1613",
   "metadata": {},
   "outputs": [],
   "source": []
  }
 ],
 "metadata": {
  "kernelspec": {
   "display_name": "IR_ass2",
   "language": "python",
   "name": "python3"
  },
  "language_info": {
   "codemirror_mode": {
    "name": "ipython",
    "version": 3
   },
   "file_extension": ".py",
   "mimetype": "text/x-python",
   "name": "python",
   "nbconvert_exporter": "python",
   "pygments_lexer": "ipython3",
   "version": "3.11.11"
  }
 },
 "nbformat": 4,
 "nbformat_minor": 5
}
